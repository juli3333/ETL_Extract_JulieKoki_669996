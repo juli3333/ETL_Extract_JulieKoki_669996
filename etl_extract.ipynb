{
 "cells": [
  {
   "cell_type": "code",
   "execution_count": 1,
   "id": "f40b7bd8",
   "metadata": {},
   "outputs": [
    {
     "name": "stdout",
     "output_type": "stream",
     "text": [
      "Full Dataset Preview:\n",
      "  CustomerName Product  Quantity  Price  TotalPrice        Date     Category\n",
      "0        Alice  Laptop         3    350        1050  29/01/2024  Electronics\n",
      "1          Bob  Laptop         5    189         945  16/03/2024  Electronics\n",
      "2        Diana  Laptop         1    195         195  28/01/2024  Electronics\n",
      "3          Bob  Laptop         5    303        1515  01/04/2024  Electronics\n",
      "4        Diana   Phone         4    703        2812  05/02/2024  Electronics\n",
      "\n",
      "Dataset contains 50 rows and 7 columns.\n",
      "Extracted 50 rows fully.\n"
     ]
    }
   ],
   "source": [
    "import pandas as pd\n",
    "\n",
    "# Loading dataset\n",
    "df = pd.read_csv(\"custom_data.csv\")\n",
    "\n",
    "# Showing the dataset overview\n",
    "print(\"Full Dataset Preview:\")\n",
    "print(df.head())\n",
    "\n",
    "print(f\"\\nDataset contains {df.shape[0]} rows and {df.shape[1]} columns.\")\n",
    "print(f\"Extracted {df.shape[0]} rows fully.\")"
   ]
  },
  {
   "cell_type": "code",
   "execution_count": 2,
   "id": "285f3e2d",
   "metadata": {},
   "outputs": [
    {
     "name": "stdout",
     "output_type": "stream",
     "text": [
      "\n",
      "Extracted 0 rows incrementally since last check.\n",
      "Empty DataFrame\n",
      "Columns: [CustomerName, Product, Quantity, Price, TotalPrice, Date, Category]\n",
      "Index: []\n"
     ]
    }
   ],
   "source": [
    "from datetime import datetime\n",
    "\n",
    "# Converting the Date column to datetime format \n",
    "df['Date'] = pd.to_datetime(df['Date'], dayfirst=True)\n",
    "\n",
    "# Reading the last extraction date\n",
    "with open(\"last_extraction.txt\", \"r\") as file:\n",
    "    last_extraction_str = file.read().strip()\n",
    "\n",
    "last_extraction_date = datetime.strptime(last_extraction_str, \"%d/%m/%Y\")\n",
    "\n",
    "# Filtering rows where date is after the last extraction\n",
    "incremental_df = df[df['Date'] > last_extraction_date]\n",
    "\n",
    "print(f\"\\nExtracted {incremental_df.shape[0]} rows incrementally since last check.\")\n",
    "print(incremental_df)\n"
   ]
  },
  {
   "cell_type": "code",
   "execution_count": 3,
   "id": "d1b0dfe3",
   "metadata": {},
   "outputs": [
    {
     "name": "stdout",
     "output_type": "stream",
     "text": [
      "\n",
      "Updated last_extraction.txt with new date: 07/04/2024\n"
     ]
    }
   ],
   "source": [
    "# Getting the latest date from the dataset\n",
    "new_last_extraction = df['Date'].max()\n",
    "\n",
    "# Saving the new extraction date\n",
    "with open(\"last_extraction.txt\", \"w\") as file:\n",
    "    file.write(new_last_extraction.strftime(\"%d/%m/%Y\"))\n",
    "\n",
    "print(f\"\\nUpdated last_extraction.txt with new date: {new_last_extraction.strftime('%d/%m/%Y')}\")\n"
   ]
  }
 ],
 "metadata": {
  "kernelspec": {
   "display_name": "Python 3",
   "language": "python",
   "name": "python3"
  },
  "language_info": {
   "codemirror_mode": {
    "name": "ipython",
    "version": 3
   },
   "file_extension": ".py",
   "mimetype": "text/x-python",
   "name": "python",
   "nbconvert_exporter": "python",
   "pygments_lexer": "ipython3",
   "version": "3.12.10"
  }
 },
 "nbformat": 4,
 "nbformat_minor": 5
}
